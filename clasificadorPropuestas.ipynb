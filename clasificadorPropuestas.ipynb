{
 "cells": [
  {
   "cell_type": "code",
   "execution_count": 2,
   "metadata": {},
   "outputs": [],
   "source": [
    "#Librerias usadas en este programa\n",
    "import pandas as pd\n",
    "import numpy as np\n",
    "import csv\n",
    "import os\n",
    "import nltk\n",
    "import seaborn as sns\n",
    "import matplotlib.pyplot as plt\n",
    "import re\n",
    "from sklearn import svm\n",
    "from imblearn.under_sampling import RandomUnderSampler\n",
    "from sklearn.feature_extraction.text import TfidfVectorizer\n",
    "from sklearn.feature_selection import chi2\n",
    "from sklearn.manifold import TSNE\n",
    "from sklearn.tree import DecisionTreeClassifier\n",
    "from sklearn.ensemble import RandomForestClassifier\n",
    "from sklearn.linear_model import LogisticRegression\n",
    "from sklearn.naive_bayes import MultinomialNB\n",
    "from sklearn.svm import LinearSVC\n",
    "from sklearn.model_selection import cross_val_score, train_test_split\n",
    "from sklearn.metrics import confusion_matrix, precision_score, recall_score, f1_score, accuracy_score\n",
    "#Ejecutar esta linea de abajo solo una vez para tener las stopwords en español\n",
    "#nltk.download('stopwords')\n",
    "from nltk.corpus import stopwords\n",
    "import requests\n",
    "from bs4 import BeautifulSoup"
   ]
  },
  {
   "cell_type": "code",
   "execution_count": 2,
   "metadata": {},
   "outputs": [
    {
     "name": "stdout",
     "output_type": "stream",
     "text": [
      "Pagina 1 scrapeada\n",
      "Pagina 2 scrapeada\n",
      "Pagina 3 scrapeada\n",
      "Pagina 4 scrapeada\n",
      "Pagina 5 scrapeada\n",
      "Pagina 6 scrapeada\n",
      "Pagina 7 scrapeada\n",
      "Pagina 8 scrapeada\n",
      "Pagina 9 scrapeada\n",
      "Pagina 10 scrapeada\n",
      "Pagina 11 scrapeada\n",
      "Pagina 12 scrapeada\n",
      "Pagina 13 scrapeada\n",
      "Pagina 14 scrapeada\n",
      "Pagina 15 scrapeada\n",
      "Pagina 16 scrapeada\n",
      "Pagina 17 scrapeada\n",
      "Pagina 18 scrapeada\n",
      "Pagina 19 scrapeada\n",
      "Pagina 20 scrapeada\n",
      "Pagina 21 scrapeada\n",
      "Pagina 22 scrapeada\n",
      "Pagina 23 scrapeada\n",
      "Pagina 24 scrapeada\n",
      "Pagina 25 scrapeada\n",
      "Pagina 26 scrapeada\n",
      "Numero total de textos = 748\n"
     ]
    }
   ],
   "source": [
    "#Bloque que realiza web scraping y almacena los textos divididos por carpeta dependiendo de sus tags\n",
    "i = 1\n",
    "contador = 0\n",
    "while i < 27:\n",
    "    URL = 'https://votainteligente.cl/propuestas/?page='+str(i)\n",
    "    page = requests.get(URL)\n",
    "    soup = BeautifulSoup(page.content, 'html.parser')\n",
    "    results = soup.find(id='posts')\n",
    "    job_elems = results.find_all('div', class_='post')\n",
    "    for job_elem in job_elems:\n",
    "        try:\n",
    "            category = job_elem.find('a')['href']\n",
    "            category = re.search(\"clasification=(.*)\", category)\n",
    "            category = category.group(1)\n",
    "            title = job_elem.find('h4')\n",
    "            title = title.text\n",
    "            title = re.sub(\"/\", \"-\", title)\n",
    "            leer_mas = job_elem.find('a', class_='btn btn-blue pull-right')['href']\n",
    "            URL = 'https://votainteligente.cl'+leer_mas\n",
    "            page = requests.get(URL)\n",
    "            soup = BeautifulSoup(page.content, 'html.parser')\n",
    "            cuerpo = soup.find('div', class_='col-md-12')\n",
    "            cuerpo = cuerpo.find('p')\n",
    "            cuerpo = cuerpo.text\n",
    "\n",
    "            politica = ['politica', 'justicia', 'transparencia','democracia','institucionespublicas']\n",
    "            medioambiente = ['medioambiente','medio_ambiente','sustentabilidad','recursosnaturales','emergencia']\n",
    "            social = ['diversidad','derechos','asistencia','proteccion_y_familia','participacion','genero','migracion','proteccionsocial','seguridad','pensiones','pueblosoriginarios','medios','probidad','proteccionanimal','derechoshumanos','espaciospublicos','infancia','terceraedad']\n",
    "            sanidad = ['salud']\n",
    "            culturayciencia = ['cultura','deporte','tecnologia','ciencias','energia','ocio']\n",
    "            interior = ['transporte','educacion','trabajo','empleo','economia','descentralizacion','emprendimiento','educacion_y_trabajo']\n",
    "\n",
    "            if category in politica:\n",
    "                if not os.path.exists('./dataset/'+'politica'):\n",
    "                    os.makedirs('./dataset/'+'politica')\n",
    "                f= open('./dataset/'+'politica'+'/'+title,\"w+\")\n",
    "                f.write(cuerpo)\n",
    "                contador+=1\n",
    "                f.close()\n",
    "            if category in medioambiente:\n",
    "                if not os.path.exists('./dataset/'+'medioambiente'):\n",
    "                    os.makedirs('./dataset/'+'medioambiente')\n",
    "                f= open('./dataset/'+'medioambiente'+'/'+title,\"w+\")\n",
    "                f.write(cuerpo)\n",
    "                contador+=1\n",
    "                f.close()\n",
    "            if category in social:\n",
    "                if not os.path.exists('./dataset/'+'social'):\n",
    "                    os.makedirs('./dataset/'+'social')\n",
    "                f= open('./dataset/'+'social'+'/'+title,\"w+\")\n",
    "                f.write(cuerpo)\n",
    "                contador+=1\n",
    "                f.close()\n",
    "            if category in sanidad:\n",
    "                if not os.path.exists('./dataset/'+'sanidad'):\n",
    "                    os.makedirs('./dataset/'+'sanidad')\n",
    "                f= open('./dataset/'+'sanidad'+'/'+title,\"w+\")\n",
    "                f.write(cuerpo)\n",
    "                contador+=1\n",
    "                f.close()\n",
    "            if category in culturayciencia:\n",
    "                if not os.path.exists('./dataset/'+'culturayciencia'):\n",
    "                    os.makedirs('./dataset/'+'culturayciencia')\n",
    "                f= open('./dataset/'+'culturayciencia'+'/'+title,\"w+\")\n",
    "                f.write(cuerpo)\n",
    "                contador+=1\n",
    "                f.close()\n",
    "            if category in interior:\n",
    "                if not os.path.exists('./dataset/'+'interior'):\n",
    "                    os.makedirs('./dataset/'+'interior')\n",
    "                f= open('./dataset/'+'interior'+'/'+title,\"w+\")\n",
    "                f.write(cuerpo)\n",
    "                contador+=1\n",
    "                f.close()\n",
    "        except:\n",
    "            continue\n",
    "    print('Pagina '+ str(i) + ' scrapeada')\n",
    "    i += 1\n",
    "print(f'Numero total de textos = {contador}')"
   ]
  },
  {
   "cell_type": "code",
   "execution_count": 3,
   "metadata": {
    "scrolled": false
   },
   "outputs": [
    {
     "data": {
      "text/html": [
       "<div>\n",
       "<style scoped>\n",
       "    .dataframe tbody tr th:only-of-type {\n",
       "        vertical-align: middle;\n",
       "    }\n",
       "\n",
       "    .dataframe tbody tr th {\n",
       "        vertical-align: top;\n",
       "    }\n",
       "\n",
       "    .dataframe thead th {\n",
       "        text-align: right;\n",
       "    }\n",
       "</style>\n",
       "<table border=\"1\" class=\"dataframe\">\n",
       "  <thead>\n",
       "    <tr style=\"text-align: right;\">\n",
       "      <th></th>\n",
       "      <th>category</th>\n",
       "      <th>title</th>\n",
       "      <th>content</th>\n",
       "      <th>category_id</th>\n",
       "    </tr>\n",
       "  </thead>\n",
       "  <tbody>\n",
       "    <tr>\n",
       "      <th>0</th>\n",
       "      <td>culturayciencia</td>\n",
       "      <td>Acceso a la cultura y el conocimiento</td>\n",
       "      <td>El sistema de derechos de autor se encuentra d...</td>\n",
       "      <td>0</td>\n",
       "    </tr>\n",
       "    <tr>\n",
       "      <th>1</th>\n",
       "      <td>culturayciencia</td>\n",
       "      <td>Acercando a la Biblioteca</td>\n",
       "      <td>Las bibliotecas publicas no son usadas por los...</td>\n",
       "      <td>0</td>\n",
       "    </tr>\n",
       "    <tr>\n",
       "      <th>2</th>\n",
       "      <td>culturayciencia</td>\n",
       "      <td>Arte, cultura</td>\n",
       "      <td>Valorización del arte en chile.</td>\n",
       "      <td>0</td>\n",
       "    </tr>\n",
       "    <tr>\n",
       "      <th>3</th>\n",
       "      <td>culturayciencia</td>\n",
       "      <td>Cambio de paradigma por parte del estado en la...</td>\n",
       "      <td>Contaminación de las ciudades y altos costos d...</td>\n",
       "      <td>0</td>\n",
       "    </tr>\n",
       "    <tr>\n",
       "      <th>4</th>\n",
       "      <td>culturayciencia</td>\n",
       "      <td>CAMBIO DE SISTEMA EDUCATIVO</td>\n",
       "      <td></td>\n",
       "      <td>0</td>\n",
       "    </tr>\n",
       "    <tr>\n",
       "      <th>...</th>\n",
       "      <td>...</td>\n",
       "      <td>...</td>\n",
       "      <td>...</td>\n",
       "      <td>...</td>\n",
       "    </tr>\n",
       "    <tr>\n",
       "      <th>693</th>\n",
       "      <td>social</td>\n",
       "      <td>Vivienda Digna por un futuro mejor (Dirigentes...</td>\n",
       "      <td>Chile cuenta con más de 40.000 familias vivien...</td>\n",
       "      <td>5</td>\n",
       "    </tr>\n",
       "    <tr>\n",
       "      <th>694</th>\n",
       "      <td>social</td>\n",
       "      <td>Vivienda Social Digna. Entregar los recursos y...</td>\n",
       "      <td>Viviendas sociales dignas y acordes a las nece...</td>\n",
       "      <td>5</td>\n",
       "    </tr>\n",
       "    <tr>\n",
       "      <th>695</th>\n",
       "      <td>social</td>\n",
       "      <td>¡MENOS TRABAJO, MAS TIEMPO CON LA FAMILIA!</td>\n",
       "      <td>MARCHAR PARA EXIGIR UNA LEY PARA QUE PADRES Y ...</td>\n",
       "      <td>5</td>\n",
       "    </tr>\n",
       "    <tr>\n",
       "      <th>696</th>\n",
       "      <td>social</td>\n",
       "      <td>“HACER COSAS BUENAS” SIN DISCRIMINACIÓN PARA T...</td>\n",
       "      <td>Que el presidente se preocupe de incorporar en...</td>\n",
       "      <td>5</td>\n",
       "    </tr>\n",
       "    <tr>\n",
       "      <th>697</th>\n",
       "      <td>social</td>\n",
       "      <td>“PROTECCIÓN A LA FAMILIA Y EL MEDIO AMBIENTE”</td>\n",
       "      <td>Es importante que el presidente electo cree un...</td>\n",
       "      <td>5</td>\n",
       "    </tr>\n",
       "  </tbody>\n",
       "</table>\n",
       "<p>698 rows × 4 columns</p>\n",
       "</div>"
      ],
      "text/plain": [
       "            category                                              title  \\\n",
       "0    culturayciencia              Acceso a la cultura y el conocimiento   \n",
       "1    culturayciencia                          Acercando a la Biblioteca   \n",
       "2    culturayciencia                                      Arte, cultura   \n",
       "3    culturayciencia  Cambio de paradigma por parte del estado en la...   \n",
       "4    culturayciencia                        CAMBIO DE SISTEMA EDUCATIVO   \n",
       "..               ...                                                ...   \n",
       "693           social  Vivienda Digna por un futuro mejor (Dirigentes...   \n",
       "694           social  Vivienda Social Digna. Entregar los recursos y...   \n",
       "695           social         ¡MENOS TRABAJO, MAS TIEMPO CON LA FAMILIA!   \n",
       "696           social  “HACER COSAS BUENAS” SIN DISCRIMINACIÓN PARA T...   \n",
       "697           social      “PROTECCIÓN A LA FAMILIA Y EL MEDIO AMBIENTE”   \n",
       "\n",
       "                                               content  category_id  \n",
       "0    El sistema de derechos de autor se encuentra d...            0  \n",
       "1    Las bibliotecas publicas no son usadas por los...            0  \n",
       "2                      Valorización del arte en chile.            0  \n",
       "3    Contaminación de las ciudades y altos costos d...            0  \n",
       "4                                                                 0  \n",
       "..                                                 ...          ...  \n",
       "693  Chile cuenta con más de 40.000 familias vivien...            5  \n",
       "694  Viviendas sociales dignas y acordes a las nece...            5  \n",
       "695  MARCHAR PARA EXIGIR UNA LEY PARA QUE PADRES Y ...            5  \n",
       "696  Que el presidente se preocupe de incorporar en...            5  \n",
       "697  Es importante que el presidente electo cree un...            5  \n",
       "\n",
       "[698 rows x 4 columns]"
      ]
     },
     "execution_count": 3,
     "metadata": {},
     "output_type": "execute_result"
    }
   ],
   "source": [
    "#En este bloque se leen todos los archivos txt y se incluyen en un dataframe\n",
    "col_names =  ['category', 'title', 'content'] \n",
    "df  = pd.DataFrame(columns = col_names) \n",
    "path = r\"dataset\\culturayciencia\"\n",
    "categoria= \"culturayciencia\"\n",
    "directories = os.listdir( path )\n",
    " \n",
    "\n",
    "for file in directories:\n",
    "    #print(\"El nombre de archivo es: \"+ file)\n",
    "    #print(\"La categoria del archivo es: \"+ categoria)\n",
    "    objText = open(path+\"\\\\\"+file,\"r\",encoding='ANSI')\n",
    "    lstLines = objText.read()\n",
    "    titulo = file\n",
    "    cuerpo = re.findall(r\".*\",lstLines)\n",
    "    #print(\"El titulo es: \"+ titulo)\n",
    "    #print(\"El cuerpo es: \"+ cuerpo[0])\n",
    "    new_row = {'category':categoria, 'title':titulo, 'content':cuerpo[0]}\n",
    "    df = df.append(new_row, ignore_index=True)\n",
    "    #print()\n",
    "\n",
    "path = r\"dataset\\interior\"\n",
    "categoria= \"interior\"\n",
    "directories = os.listdir( path )\n",
    " \n",
    "\n",
    "for file in directories:\n",
    "    #print(\"El nombre de archivo es: \"+ file)\n",
    "    #print(\"La categoria del archivo es: \"+ categoria)\n",
    "    objText = open(path+\"\\\\\"+file,\"r\",encoding='ANSI')\n",
    "    lstLines = objText.read()\n",
    "    titulo = file\n",
    "    cuerpo = re.findall(r\".*\",lstLines)\n",
    "    #print(\"El titulo es: \"+ titulo)\n",
    "    #print(\"El cuerpo es: \"+ cuerpo[0])\n",
    "    new_row = {'category':categoria, 'title':titulo, 'content':cuerpo[0]}\n",
    "    df = df.append(new_row, ignore_index=True)\n",
    "    #print()\n",
    "\n",
    "path = r\"dataset\\medioambiente\"\n",
    "categoria= \"medioambiente\"\n",
    "directories = os.listdir( path )\n",
    " \n",
    "\n",
    "for file in directories:\n",
    "    #print(\"El nombre de archivo es: \"+ file)\n",
    "    #print(\"La categoria del archivo es: \"+ categoria)\n",
    "    objText = open(path+\"\\\\\"+file,\"r\",encoding='ANSI')\n",
    "    lstLines = objText.read()\n",
    "    titulo = file\n",
    "    cuerpo = re.findall(r\".*\",lstLines)\n",
    "    #print(\"El titulo es: \"+ titulo)\n",
    "    #print(\"El cuerpo es: \"+ cuerpo[0])\n",
    "    new_row = {'category':categoria, 'title':titulo, 'content':cuerpo[0]}\n",
    "    df = df.append(new_row, ignore_index=True)\n",
    "    #print()\n",
    "\n",
    "path = r\"dataset\\politica\"\n",
    "categoria= \"politica\"\n",
    "directories = os.listdir( path )\n",
    " \n",
    "\n",
    "for file in directories:\n",
    "    #print(\"El nombre de archivo es: \"+ file)\n",
    "    #print(\"La categoria del archivo es: \"+ categoria)\n",
    "    objText = open(path+\"\\\\\"+file,\"r\",encoding='ANSI')\n",
    "    lstLines = objText.read()\n",
    "    titulo = file\n",
    "    cuerpo = re.findall(r\".*\",lstLines)\n",
    "    #print(\"El titulo es: \"+ titulo)\n",
    "    #print(\"El cuerpo es: \"+ cuerpo[0])\n",
    "    new_row = {'category':categoria, 'title':titulo, 'content':cuerpo[0]}\n",
    "    df = df.append(new_row, ignore_index=True)\n",
    "    #print()\n",
    "\n",
    "path = r\"dataset\\sanidad\"\n",
    "categoria= \"sanidad\"\n",
    "directories = os.listdir( path )\n",
    " \n",
    "\n",
    "for file in directories:\n",
    "    #print(\"El nombre de archivo es: \"+ file)\n",
    "    #print(\"La categoria del archivo es: \"+ categoria)\n",
    "    objText = open(path+\"\\\\\"+file,\"r\",encoding='ANSI')\n",
    "    lstLines = objText.read()\n",
    "    titulo = file\n",
    "    cuerpo = re.findall(r\".*\",lstLines)\n",
    "    #print(\"El titulo es: \"+ titulo)\n",
    "    #print(\"El cuerpo es: \"+ cuerpo[0])\n",
    "    new_row = {'category':categoria, 'title':titulo, 'content':cuerpo[0]}\n",
    "    df = df.append(new_row, ignore_index=True)\n",
    "    #print()\n",
    "\n",
    "path = r\"dataset\\social\"\n",
    "categoria= \"social\"\n",
    "directories = os.listdir( path )\n",
    " \n",
    "\n",
    "for file in directories:\n",
    "    #print(\"El nombre de archivo es: \"+ file)\n",
    "    #print(\"La categoria del archivo es: \"+ categoria)\n",
    "    objText = open(path+\"\\\\\"+file,\"r\",encoding='ANSI')\n",
    "    lstLines = objText.read()\n",
    "    titulo = file\n",
    "    cuerpo = re.findall(r\".*\",lstLines)\n",
    "    #print(\"El titulo es: \"+ titulo)\n",
    "    #print(\"El cuerpo es: \"+ cuerpo[0])\n",
    "    new_row = {'category':categoria, 'title':titulo, 'content':cuerpo[0]}\n",
    "    df = df.append(new_row, ignore_index=True)\n",
    "    #print()\n",
    "        \n",
    "df['category_id'] = df['category'].factorize()[0]\n",
    "df"
   ]
  },
  {
   "cell_type": "code",
   "execution_count": 4,
   "metadata": {},
   "outputs": [],
   "source": [
    "#En este bloque se guardan ordenados los valores por categoria y su id\n",
    "category_id_df = df[['category', 'category_id']].drop_duplicates().sort_values('category_id')\n",
    "category_to_id = dict(category_id_df.values)\n",
    "id_to_category = dict(category_id_df[['category_id', 'category']].values)"
   ]
  },
  {
   "cell_type": "code",
   "execution_count": 5,
   "metadata": {
    "scrolled": false
   },
   "outputs": [
    {
     "data": {
      "image/png": "[encoded data removed]",
      "text/plain": [
       "<Figure size 432x288 with 1 Axes>"
      ]
     },
     "metadata": {
      "needs_background": "light"
     },
     "output_type": "display_data"
    }
   ],
   "source": [
    "#En este bloque se imprime por pantalla una grafica de cuantos archivos hay por cada categoria\n",
    "fig = plt.figure(figsize=(6,4))\n",
    "df.groupby('category').content.count().plot.bar(ylim=0)\n",
    "plt.show()\n",
    "#Forma mas resumida de mostrar el grafico\n",
    "#df.groupby('category').filename.count().plot.bar(ylim=0)"
   ]
  },
  {
   "cell_type": "code",
   "execution_count": 6,
   "metadata": {},
   "outputs": [
    {
     "data": {
      "text/plain": [
       "(698, 1498)"
      ]
     },
     "execution_count": 6,
     "metadata": {},
     "output_type": "execute_result"
    }
   ],
   "source": [
    "#En este bloque se crea la matriz TF-IDF con los stopwords de español\n",
    "stop_es=stopwords.words('spanish')\n",
    "tfidf = TfidfVectorizer(sublinear_tf=True, min_df=3, norm='l2', encoding='latin-1', ngram_range=(1, 2), stop_words=stop_es)\n",
    "features = tfidf.fit_transform(df.content).toarray()\n",
    "labels = df.category_id\n",
    "features.shape"
   ]
  },
  {
   "cell_type": "code",
   "execution_count": 7,
   "metadata": {
    "scrolled": false
   },
   "outputs": [
    {
     "name": "stdout",
     "output_type": "stream",
     "text": [
      "# 'culturayciencia':\n",
      "  . Unigramas mas representativos:\n",
      ". deportistas\n",
      ". canchas\n",
      ". deporte\n",
      "  . Bigramas mas representativos:\n",
      ". aire libre\n",
      ". tiempo libre\n",
      ". falta recursos\n",
      "# 'interior':\n",
      "  . Unigramas mas representativos:\n",
      ". colegios\n",
      ". profesores\n",
      ". educación\n",
      "  . Bigramas mas representativos:\n",
      ". educación calidad\n",
      ". educación gratuita\n",
      ". calidad educación\n",
      "# 'medioambiente':\n",
      "  . Unigramas mas representativos:\n",
      ". reciclaje\n",
      ". contaminación\n",
      ". basura\n",
      "  . Bigramas mas representativos:\n",
      ". mismos ciudadanos\n",
      ". plazas parques\n",
      ". medio ambiente\n",
      "# 'politica':\n",
      "  . Unigramas mas representativos:\n",
      ". antisemitismo\n",
      ". políticos\n",
      ". corrupción\n",
      "  . Bigramas mas representativos:\n",
      ". querellas corrupción\n",
      ". recursos públicos\n",
      ". incitación odio\n",
      "# 'sanidad':\n",
      "  . Unigramas mas representativos:\n",
      ". medicamentos\n",
      ". hospitales\n",
      ". salud\n",
      "  . Bigramas mas representativos:\n",
      ". alto costo\n",
      ". servicio salud\n",
      ". salud pública\n",
      "# 'social':\n",
      "  . Unigramas mas representativos:\n",
      ". basura\n",
      ". discriminación\n",
      ". sename\n",
      "  . Bigramas mas representativos:\n",
      ". derecho vivienda\n",
      ". personas discapacidad\n",
      ". personas mayores\n"
     ]
    }
   ],
   "source": [
    "#En este bloque se imprime los unigramas y bigramas mas representativos de cada clase. Hay un fallo en esta libreria en el\n",
    "#caso de ser solo dos clases.\n",
    "N = 3\n",
    "for category, category_id in sorted(category_to_id.items()):\n",
    "  features_chi2 = chi2(features, labels == category_id)\n",
    "  indices = np.argsort(features_chi2[0])\n",
    "  feature_names = np.array(tfidf.get_feature_names())[indices]\n",
    "  unigrams = [v for v in feature_names if len(v.split(' ')) == 1]\n",
    "  bigrams = [v for v in feature_names if len(v.split(' ')) == 2]\n",
    "  print(\"# '{}':\".format(category))\n",
    "  print(\"  . Unigramas mas representativos:\\n. {}\".format('\\n. '.join(unigrams[-N:])))\n",
    "  print(\"  . Bigramas mas representativos:\\n. {}\".format('\\n. '.join(bigrams[-N:])))"
   ]
  },
  {
   "cell_type": "code",
   "execution_count": 8,
   "metadata": {},
   "outputs": [
    {
     "data": {
      "text/plain": [
       "<matplotlib.legend.Legend at 0x1c8d6ae1970>"
      ]
     },
     "execution_count": 8,
     "metadata": {},
     "output_type": "execute_result"
    },
    {
     "data": {
      "image/png": "[encoded data removed]",
      "text/plain": [
       "<Figure size 432x288 with 1 Axes>"
      ]
     },
     "metadata": {
      "needs_background": "light"
     },
     "output_type": "display_data"
    }
   ],
   "source": [
    "#En este bloque se imprime una grafica punteada de un ejemplo del 30% de los datos de la matriz tf-idf\n",
    "SAMPLE_SIZE = int(len(features) * 0.2)\n",
    "np.random.seed(0)\n",
    "indices = np.random.choice(range(len(features)), size=SAMPLE_SIZE, replace=False)\n",
    "projected_features = TSNE(n_components=2, random_state=0).fit_transform(features[indices])\n",
    "colors = ['pink', 'green', 'midnightblue', 'orange', 'darkgrey', 'yellow']\n",
    "for category, category_id in sorted(category_to_id.items()):\n",
    "    points = projected_features[(labels[indices] == category_id).values]\n",
    "    plt.scatter(points[:, 0], points[:, 1], s=30, c=colors[category_id], label=category)\n",
    "plt.title(\"vector de características tf-idf para cada artículo, proyectado en 2 dimensiones.\",\n",
    "          fontdict=dict(fontsize=15))\n",
    "plt.legend()"
   ]
  },
  {
   "cell_type": "code",
   "execution_count": 9,
   "metadata": {
    "scrolled": true
   },
   "outputs": [
    {
     "data": {
      "text/html": [
       "<div>\n",
       "<style scoped>\n",
       "    .dataframe tbody tr th:only-of-type {\n",
       "        vertical-align: middle;\n",
       "    }\n",
       "\n",
       "    .dataframe tbody tr th {\n",
       "        vertical-align: top;\n",
       "    }\n",
       "\n",
       "    .dataframe thead th {\n",
       "        text-align: right;\n",
       "    }\n",
       "</style>\n",
       "<table border=\"1\" class=\"dataframe\">\n",
       "  <thead>\n",
       "    <tr style=\"text-align: right;\">\n",
       "      <th></th>\n",
       "      <th>category</th>\n",
       "      <th>title</th>\n",
       "      <th>content</th>\n",
       "      <th>category_id</th>\n",
       "    </tr>\n",
       "  </thead>\n",
       "  <tbody>\n",
       "    <tr>\n",
       "      <th>553</th>\n",
       "      <td>social</td>\n",
       "      <td>Mejorar la calidad de vida de las personas may...</td>\n",
       "      <td>as precariedades del Adulto Mayor que se tradu...</td>\n",
       "      <td>5</td>\n",
       "    </tr>\n",
       "    <tr>\n",
       "      <th>598</th>\n",
       "      <td>social</td>\n",
       "      <td>Pensiones a los adultos mayores</td>\n",
       "      <td>Todos sabemos que hoy en día los adultos mayor...</td>\n",
       "      <td>5</td>\n",
       "    </tr>\n",
       "    <tr>\n",
       "      <th>668</th>\n",
       "      <td>social</td>\n",
       "      <td>Sistema de reparto equitativo para adultos may...</td>\n",
       "      <td>Un sistema solidario y de reparto con pensione...</td>\n",
       "      <td>5</td>\n",
       "    </tr>\n",
       "  </tbody>\n",
       "</table>\n",
       "</div>"
      ],
      "text/plain": [
       "    category                                              title  \\\n",
       "553   social  Mejorar la calidad de vida de las personas may...   \n",
       "598   social                    Pensiones a los adultos mayores   \n",
       "668   social  Sistema de reparto equitativo para adultos may...   \n",
       "\n",
       "                                               content  category_id  \n",
       "553  as precariedades del Adulto Mayor que se tradu...            5  \n",
       "598  Todos sabemos que hoy en día los adultos mayor...            5  \n",
       "668  Un sistema solidario y de reparto con pensione...            5  "
      ]
     },
     "execution_count": 9,
     "metadata": {},
     "output_type": "execute_result"
    }
   ],
   "source": [
    "#En este bloque podemos buscar palabras que contengan los titulos del dataframe\n",
    "df[df.title.str.contains('mayores')]"
   ]
  },
  {
   "cell_type": "code",
   "execution_count": 10,
   "metadata": {},
   "outputs": [
    {
     "data": {
      "text/plain": [
       "social      4\n",
       "interior    4\n",
       "Name: category, dtype: int64"
      ]
     },
     "execution_count": 10,
     "metadata": {},
     "output_type": "execute_result"
    }
   ],
   "source": [
    "#En este bloque se puede ver que archivos contienen el termino que queramos buscar en nuestro data frame\n",
    "df[df.content.str.lower().str.contains('pobreza')].category.value_counts()"
   ]
  },
  {
   "cell_type": "code",
   "execution_count": 11,
   "metadata": {},
   "outputs": [],
   "source": [
    "#En este bloque entrenamos varios modelos (Random Forest, Naive Bayes, Regresion Logistica, Arbol de Decision y LinearSVC) para decidir cual es el mejor\n",
    "models = [\n",
    "    RandomForestClassifier(n_estimators=200, max_depth=5, min_samples_leaf=4 ,random_state=0),\n",
    "    MultinomialNB(),\n",
    "    LogisticRegression(random_state=0),\n",
    "    DecisionTreeClassifier(),\n",
    "    LinearSVC()\n",
    "]\n",
    "CV = 5\n",
    "cv_df = pd.DataFrame(index=range(CV * len(models)))\n",
    "entries = []\n",
    "for model in models:\n",
    "  model_name = model.__class__.__name__\n",
    "  accuracies = cross_val_score(model, features, labels, scoring='accuracy', cv=CV)\n",
    "  for fold_idx, accuracy in enumerate(accuracies):\n",
    "    entries.append((model_name, fold_idx, accuracy))\n",
    "cv_df = pd.DataFrame(entries, columns=['model_name', 'fold_idx', 'accuracy'])"
   ]
  },
  {
   "cell_type": "code",
   "execution_count": 12,
   "metadata": {
    "scrolled": false
   },
   "outputs": [
    {
     "data": {
      "text/plain": [
       "<AxesSubplot:xlabel='model_name', ylabel='accuracy'>"
      ]
     },
     "execution_count": 12,
     "metadata": {},
     "output_type": "execute_result"
    },
    {
     "data": {
      "image/png": "[encoded data removed]",
      "text/plain": [
       "<Figure size 720x288 with 1 Axes>"
      ]
     },
     "metadata": {
      "needs_background": "light"
     },
     "output_type": "display_data"
    }
   ],
   "source": [
    "#En este bloque se muestra una grafica de la precision de los modelos entrenados\n",
    "fig = plt.figure(figsize=(10,4))\n",
    "sns.boxplot(x='model_name', y='accuracy', data=cv_df)\n",
    "sns.stripplot(x='model_name', y='accuracy', data=cv_df, \n",
    "              size=8, jitter=True, edgecolor=\"gray\", linewidth=2)"
   ]
  },
  {
   "cell_type": "code",
   "execution_count": 13,
   "metadata": {},
   "outputs": [
    {
     "data": {
      "text/plain": [
       "model_name\n",
       "DecisionTreeClassifier    0.492826\n",
       "LinearSVC                 0.606053\n",
       "LogisticRegression        0.541521\n",
       "MultinomialNB             0.501459\n",
       "RandomForestClassifier    0.446989\n",
       "Name: accuracy, dtype: float64"
      ]
     },
     "execution_count": 13,
     "metadata": {},
     "output_type": "execute_result"
    }
   ],
   "source": [
    "#En este bloque se muestra los valores de precision de cada modelo\n",
    "cv_df.groupby('model_name').accuracy.mean()"
   ]
  },
  {
   "cell_type": "code",
   "execution_count": 16,
   "metadata": {},
   "outputs": [],
   "source": [
    "#Dividimos los datos de entrenamiento y test, y realizamos el balanceo de los datos\n",
    "X_train, X_test, y_train, y_test, indices_train, indices_test = train_test_split(features, labels, df.index, test_size=0.1, random_state=42)\n",
    "rus = RandomUnderSampler(random_state=42)\n",
    "X_train, y_train = rus.fit_resample(X_train, y_train)"
   ]
  },
  {
   "cell_type": "code",
   "execution_count": 17,
   "metadata": {},
   "outputs": [
    {
     "name": "stdout",
     "output_type": "stream",
     "text": [
      "Precision: 0.650\n",
      "Recall: 0.486\n",
      "F1 Score: 0.497\n"
     ]
    },
    {
     "data": {
      "image/png": "[encoded data removed]",
      "text/plain": [
       "<Figure size 432x288 with 2 Axes>"
      ]
     },
     "metadata": {
      "needs_background": "light"
     },
     "output_type": "display_data"
    }
   ],
   "source": [
    "#En este bloque entrenamos otra vez con Naive Bayes y mostramos su matriz de confusión\n",
    "model = MultinomialNB()\n",
    "model.fit(X_train, y_train)\n",
    "y_pred_proba = model.predict_proba(X_test)\n",
    "y_pred = model.predict(X_test)\n",
    "\n",
    "conf_mat = confusion_matrix(y_test, y_pred)\n",
    "sns.heatmap(conf_mat, annot=True, fmt='d',\n",
    "            xticklabels=category_id_df.category.values, yticklabels=category_id_df.category.values)\n",
    "plt.ylabel('Actual')\n",
    "plt.xlabel('Predicted')\n",
    "print('Precision: %.3f' % precision_score(y_test, y_pred, average=\"weighted\", labels=np.unique(y_pred), zero_division=0))\n",
    "print('Recall: %.3f' % recall_score(y_test, y_pred, average=\"weighted\", labels=np.unique(y_pred), zero_division=0))\n",
    "print('F1 Score: %.3f' % f1_score(y_test, y_pred, average=\"weighted\", labels=np.unique(y_pred), zero_division=0))"
   ]
  },
  {
   "cell_type": "code",
   "execution_count": 18,
   "metadata": {},
   "outputs": [
    {
     "name": "stdout",
     "output_type": "stream",
     "text": [
      "Precision: 0.547\n",
      "Recall: 0.486\n",
      "F1 Score: 0.503\n"
     ]
    },
    {
     "data": {
      "image/png": "[encoded data removed]",
      "text/plain": [
       "<Figure size 432x288 with 2 Axes>"
      ]
     },
     "metadata": {
      "needs_background": "light"
     },
     "output_type": "display_data"
    }
   ],
   "source": [
    "#En este bloque entrenamos otra vez con Clasificación de vectores de soporte lineal y mostramos su matriz de confusión\n",
    "model = LinearSVC()\n",
    "\n",
    "model.fit(X_train, y_train)\n",
    "y_pred = model.predict(X_test)\n",
    "\n",
    "conf_mat = confusion_matrix(y_test, y_pred)\n",
    "sns.heatmap(conf_mat, annot=True, fmt='d',\n",
    "            xticklabels=category_id_df.category.values, yticklabels=category_id_df.category.values)\n",
    "plt.ylabel('Actual')\n",
    "plt.xlabel('Predicted')\n",
    "print('Precision: %.3f' % precision_score(y_test, y_pred, average=\"weighted\", labels=np.unique(y_pred), zero_division=0))\n",
    "print('Recall: %.3f' % recall_score(y_test, y_pred, average=\"weighted\", labels=np.unique(y_pred), zero_division=0))\n",
    "print('F1 Score: %.3f' % f1_score(y_test, y_pred, average=\"weighted\", labels=np.unique(y_pred), zero_division=0))"
   ]
  },
  {
   "cell_type": "code",
   "execution_count": 19,
   "metadata": {},
   "outputs": [
    {
     "name": "stdout",
     "output_type": "stream",
     "text": [
      "Precision: 0.517\n",
      "Recall: 0.314\n",
      "F1 Score: 0.335\n"
     ]
    },
    {
     "data": {
      "image/png": "[encoded data removed]",
      "text/plain": [
       "<Figure size 432x288 with 2 Axes>"
      ]
     },
     "metadata": {
      "needs_background": "light"
     },
     "output_type": "display_data"
    }
   ],
   "source": [
    "#En este bloque entrenamos otra vez con Arbol de Decision y mostramos su matriz de confusión\n",
    "model = DecisionTreeClassifier()\n",
    "\n",
    "model.fit(X_train, y_train)\n",
    "y_pred_proba = model.predict_proba(X_test)\n",
    "y_pred = model.predict(X_test)\n",
    "\n",
    "conf_mat = confusion_matrix(y_test, y_pred)\n",
    "sns.heatmap(conf_mat, annot=True, fmt='d',\n",
    "            xticklabels=category_id_df.category.values, yticklabels=category_id_df.category.values)\n",
    "plt.ylabel('Actual')\n",
    "plt.xlabel('Predicted')\n",
    "print('Precision: %.3f' % precision_score(y_test, y_pred, average=\"weighted\", labels=np.unique(y_pred), zero_division=0))\n",
    "print('Recall: %.3f' % recall_score(y_test, y_pred, average=\"weighted\", labels=np.unique(y_pred), zero_division=0))\n",
    "print('F1 Score: %.3f' % f1_score(y_test, y_pred, average=\"weighted\", labels=np.unique(y_pred), zero_division=0))"
   ]
  },
  {
   "cell_type": "code",
   "execution_count": 22,
   "metadata": {},
   "outputs": [
    {
     "name": "stdout",
     "output_type": "stream",
     "text": [
      "Precision: 0.599\n",
      "Recall: 0.543\n",
      "F1 Score: 0.556\n"
     ]
    },
    {
     "data": {
      "image/png": "[encoded data removed]",
      "text/plain": [
       "<Figure size 432x288 with 2 Axes>"
      ]
     },
     "metadata": {
      "needs_background": "light"
     },
     "output_type": "display_data"
    }
   ],
   "source": [
    "#En este bloque entrenamos otra vez con Regresion Logistica y mostramos su matriz de confusión\n",
    "model = LogisticRegression(random_state=0)\n",
    "\n",
    "model.fit(X_train, y_train)\n",
    "y_pred_proba = model.predict_proba(X_test)\n",
    "y_pred = model.predict(X_test)\n",
    "\n",
    "conf_mat = confusion_matrix(y_test, y_pred)\n",
    "sns.heatmap(conf_mat, annot=True, fmt='d',\n",
    "            xticklabels=category_id_df.category.values, yticklabels=category_id_df.category.values)\n",
    "plt.ylabel('Actual')\n",
    "plt.xlabel('Predicted')\n",
    "print('Precision: %.3f' % precision_score(y_test, y_pred, average=\"weighted\", labels=np.unique(y_pred), zero_division=0))\n",
    "print('Recall: %.3f' % recall_score(y_test, y_pred, average=\"weighted\", labels=np.unique(y_pred), zero_division=0))\n",
    "print('F1 Score: %.3f' % f1_score(y_test, y_pred, average=\"weighted\", labels=np.unique(y_pred), zero_division=0))"
   ]
  },
  {
   "cell_type": "code",
   "execution_count": 23,
   "metadata": {
    "scrolled": false
   },
   "outputs": [
    {
     "name": "stdout",
     "output_type": "stream",
     "text": [
      "\"Nos gustaria mejorar las calles de nuestro barrio.\"\n",
      "  - Se predice como: 'medioambiente'\n",
      "\n",
      "\"Faltan hospitales en mi pueblo.\"\n",
      "  - Se predice como: 'sanidad'\n",
      "\n",
      "\"Hay que fomentar la innovacion y el emprendimiento\"\n",
      "  - Se predice como: 'medioambiente'\n",
      "\n",
      "\"Apoyo a la investigacion de energias renovables.\"\n",
      "  - Se predice como: 'culturayciencia'\n",
      "\n",
      "\"Ayudas para los desempleados de larga duración\"\n",
      "  - Se predice como: 'social'\n",
      "\n"
     ]
    }
   ],
   "source": [
    "#En este bloque testeamos el modelo que se ha decidido usar al final\n",
    "texts = [\"Nos gustaria mejorar las calles de nuestro barrio.\",\n",
    "         \"Faltan hospitales en mi pueblo.\",\n",
    "         \"Hay que fomentar la innovacion y el emprendimiento\",\n",
    "         \"Apoyo a la investigacion de energias renovables.\",\n",
    "         \"Ayudas para los desempleados de larga duración\"]\n",
    "text_features = tfidf.transform(texts)\n",
    "predictions = model.predict(text_features)\n",
    "for text, predicted in zip(texts, predictions):\n",
    "  print('\"{}\"'.format(text))\n",
    "  print(\"  - Se predice como: '{}'\".format(id_to_category[predicted]))\n",
    "  print(\"\")"
   ]
  },
  {
   "cell_type": "code",
   "execution_count": null,
   "metadata": {},
   "outputs": [],
   "source": []
  }
 ],
 "metadata": {
  "celltoolbar": "Raw Cell Format",
  "kernelspec": {
   "display_name": "Python 3",
   "language": "python",
   "name": "python3"
  },
  "language_info": {
   "codemirror_mode": {
    "name": "ipython",
    "version": 3
   },
   "file_extension": ".py",
   "mimetype": "text/x-python",
   "name": "python",
   "nbconvert_exporter": "python",
   "pygments_lexer": "ipython3",
   "version": "3.8.5"
  }
 },
 "nbformat": 4,
 "nbformat_minor": 4
}
