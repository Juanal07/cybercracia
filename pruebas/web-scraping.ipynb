{
 "cells": [
  {
   "cell_type": "code",
   "execution_count": 5,
   "metadata": {
    "collapsed": true,
    "pycharm": {
     "name": "#%%\n"
    }
   },
   "outputs": [],
   "source": [
    "\n",
    "import requests\n",
    "from bs4 import BeautifulSoup\n",
    "import re\n",
    "import os"
   ]
  },
  {
   "cell_type": "code",
   "execution_count": 6,
   "outputs": [
    {
     "name": "stdout",
     "output_type": "stream",
     "text": [
      "Pagina 0 scrapeada\n",
      "Pagina 1 scrapeada\n",
      "Pagina 2 scrapeada\n",
      "Numero total de textos = 90\n"
     ]
    }
   ],
   "source": [
    "URL = 'https://votainteligente.cl/propuestas/'\n",
    "page = requests.get(URL)\n",
    "soup = BeautifulSoup(page.content, 'html.parser')\n",
    "results = soup.find(id='posts')\n",
    "job_elems = results.find_all('div', class_='post')\n",
    "i = 0\n",
    "contador = 0\n",
    "while i < 27:\n",
    "    for job_elem in job_elems:\n",
    "        try:\n",
    "            category = job_elem.find('a')['href']\n",
    "            category = re.search(\"clasification=(.*)\", category)\n",
    "            category = category.group(1)\n",
    "            title = job_elem.find('h4')\n",
    "            title = title.text\n",
    "            title = re.sub(\"/\", \"-\", title)\n",
    "            leer_mas = job_elem.find('a', class_='btn btn-blue pull-right')['href']\n",
    "            URL = 'https://votainteligente.cl'+leer_mas\n",
    "            page = requests.get(URL)\n",
    "            soup = BeautifulSoup(page.content, 'html.parser')\n",
    "            cuerpo = soup.find('div', class_='col-md-12')\n",
    "            cuerpo = cuerpo.find('p')\n",
    "            cuerpo = cuerpo.text\n",
    "            # print('Titulo: '+title)\n",
    "            # print('Categoria: '+category)\n",
    "            # print('Cuerpo: ' + cuerpo)\n",
    "            # print()\n",
    "            if not os.path.exists('./dataset/'+category):\n",
    "                os.makedirs('./dataset/'+category)\n",
    "            f= open('./dataset/'+category+'/'+title,\"w+\")\n",
    "            f.write(cuerpo)\n",
    "            contador+=1\n",
    "            f.close()\n",
    "        except:\n",
    "            continue\n",
    "    print('Pagina '+ str(i) + ' scrapeada')\n",
    "    i += 1\n",
    "    URL = 'https://votainteligente.cl/propuestas/?page='+str(i)\n",
    "    page = requests.get(URL)\n",
    "    soup = BeautifulSoup(page.content, 'html.parser')\n",
    "    results = soup.find(id='posts')\n",
    "    job_elems = results.find_all('div', class_='post')\n",
    "\n",
    "print(f'Numero total de textos = {contador}')"
   ],
   "metadata": {
    "collapsed": false,
    "pycharm": {
     "name": "#%%\n"
    }
   }
  }
 ],
 "metadata": {
  "kernelspec": {
   "display_name": "Python 3",
   "language": "python",
   "name": "python3"
  },
  "language_info": {
   "codemirror_mode": {
    "name": "ipython",
    "version": 2
   },
   "file_extension": ".py",
   "mimetype": "text/x-python",
   "name": "python",
   "nbconvert_exporter": "python",
   "pygments_lexer": "ipython2",
   "version": "2.7.6"
  }
 },
 "nbformat": 4,
 "nbformat_minor": 0
}