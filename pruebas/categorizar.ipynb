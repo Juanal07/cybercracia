{
 "cells": [
  {
   "cell_type": "code",
   "execution_count": 21,
   "metadata": {
    "collapsed": true
   },
   "outputs": [],
   "source": [
    "import requests\n",
    "from bs4 import BeautifulSoup\n",
    "import re\n",
    "import os"
   ]
  },
  {
   "cell_type": "code",
   "execution_count": 22,
   "outputs": [
    {
     "name": "stdout",
     "output_type": "stream",
     "text": [
      "Pagina 1 scrapeada\n",
      "Pagina 2 scrapeada\n",
      "Pagina 3 scrapeada\n",
      "Pagina 4 scrapeada\n",
      "Pagina 5 scrapeada\n",
      "Pagina 6 scrapeada\n",
      "Pagina 7 scrapeada\n",
      "Pagina 8 scrapeada\n",
      "Pagina 9 scrapeada\n",
      "Pagina 10 scrapeada\n",
      "Pagina 11 scrapeada\n",
      "Pagina 12 scrapeada\n",
      "Pagina 13 scrapeada\n",
      "Pagina 14 scrapeada\n",
      "Pagina 15 scrapeada\n",
      "Pagina 16 scrapeada\n",
      "Pagina 17 scrapeada\n",
      "Pagina 18 scrapeada\n",
      "Pagina 19 scrapeada\n",
      "Pagina 20 scrapeada\n",
      "Pagina 21 scrapeada\n",
      "Pagina 22 scrapeada\n",
      "Pagina 23 scrapeada\n",
      "Pagina 24 scrapeada\n",
      "Pagina 25 scrapeada\n",
      "Pagina 26 scrapeada\n",
      "Numero total de textos = 759\n"
     ]
    }
   ],
   "source": [
    "i = 1\n",
    "contador = 0\n",
    "while i < 27:\n",
    "    URL = 'https://votainteligente.cl/propuestas/?page='+str(i)\n",
    "    page = requests.get(URL)\n",
    "    soup = BeautifulSoup(page.content, 'html.parser')\n",
    "    results = soup.find(id='posts')\n",
    "    job_elems = results.find_all('div', class_='post')\n",
    "    for job_elem in job_elems:\n",
    "        try:\n",
    "            category = job_elem.find('a')['href']\n",
    "            category = re.search(\"clasification=(.*)\", category)\n",
    "            category = category.group(1)\n",
    "            title = job_elem.find('h4')\n",
    "            title = title.text\n",
    "            title = re.sub(\"/\", \"-\", title)\n",
    "            leer_mas = job_elem.find('a', class_='btn btn-blue pull-right')['href']\n",
    "            URL = 'https://votainteligente.cl'+leer_mas\n",
    "            page = requests.get(URL)\n",
    "            soup = BeautifulSoup(page.content, 'html.parser')\n",
    "            cuerpo = soup.find('div', class_='col-md-12')\n",
    "            cuerpo = cuerpo.find('p')\n",
    "            cuerpo = cuerpo.text\n",
    "\n",
    "            politica = ['politica', 'justicia', 'transparencia','democracia','institucionespublicas']\n",
    "            medioambiente = ['medioambiente','medio_ambiente','sustentabilidad','recursosnaturales','emergencia']\n",
    "            social = ['diversidad','derechos','asistencia','proteccion_y_familia','participacion','genero','migracion','proteccionsocial','seguridad','pensiones','pueblosoriginarios','medios','probidad','proteccionanimal','derechoshumanos','espaciospublicos','infancia','terceraedad']\n",
    "            sanidad = ['salud']\n",
    "            culturayciencia = ['cultura','deporte','tecnologia','ciencias','energia','ocio']\n",
    "            interior = ['transporte','educacion','trabajo','empleo','economia','descentralizacion','emprendimiento','educacion_y_trabajo']\n",
    "\n",
    "            if category in politica:\n",
    "                if not os.path.exists('./dataset/'+'politica'):\n",
    "                    os.makedirs('./dataset/'+'politica')\n",
    "                f= open('./dataset/'+'politica'+'/'+title,\"w+\")\n",
    "                f.write(cuerpo)\n",
    "                contador+=1\n",
    "                f.close()\n",
    "            if category in medioambiente:\n",
    "                if not os.path.exists('./dataset/'+'medioambiente'):\n",
    "                    os.makedirs('./dataset/'+'medioambiente')\n",
    "                f= open('./dataset/'+'medioambiente'+'/'+title,\"w+\")\n",
    "                f.write(cuerpo)\n",
    "                contador+=1\n",
    "                f.close()\n",
    "            if category in social:\n",
    "                if not os.path.exists('./dataset/'+'social'):\n",
    "                    os.makedirs('./dataset/'+'social')\n",
    "                f= open('./dataset/'+'social'+'/'+title,\"w+\")\n",
    "                f.write(cuerpo)\n",
    "                contador+=1\n",
    "                f.close()\n",
    "            if category in sanidad:\n",
    "                if not os.path.exists('./dataset/'+'sanidad'):\n",
    "                    os.makedirs('./dataset/'+'sanidad')\n",
    "                f= open('./dataset/'+'sanidad'+'/'+title,\"w+\")\n",
    "                f.write(cuerpo)\n",
    "                contador+=1\n",
    "                f.close()\n",
    "            if category in culturayciencia:\n",
    "                if not os.path.exists('./dataset/'+'culturayciencia'):\n",
    "                    os.makedirs('./dataset/'+'culturayciencia')\n",
    "                f= open('./dataset/'+'culturayciencia'+'/'+title,\"w+\")\n",
    "                f.write(cuerpo)\n",
    "                contador+=1\n",
    "                f.close()\n",
    "            if category in interior:\n",
    "                if not os.path.exists('./dataset/'+'interior'):\n",
    "                    os.makedirs('./dataset/'+'interior')\n",
    "                f= open('./dataset/'+'interior'+'/'+title,\"w+\")\n",
    "                f.write(cuerpo)\n",
    "                contador+=1\n",
    "                f.close()\n",
    "        except:\n",
    "            continue\n",
    "    print('Pagina '+ str(i) + ' scrapeada')\n",
    "    i += 1\n",
    "print(f'Numero total de textos = {contador}')\n"
   ],
   "metadata": {
    "collapsed": false,
    "pycharm": {
     "name": "#%%\n"
    }
   }
  }
 ],
 "metadata": {
  "kernelspec": {
   "display_name": "Python 3",
   "language": "python",
   "name": "python3"
  },
  "language_info": {
   "codemirror_mode": {
    "name": "ipython",
    "version": 2
   },
   "file_extension": ".py",
   "mimetype": "text/x-python",
   "name": "python",
   "nbconvert_exporter": "python",
   "pygments_lexer": "ipython2",
   "version": "2.7.6"
  }
 },
 "nbformat": 4,
 "nbformat_minor": 0
}